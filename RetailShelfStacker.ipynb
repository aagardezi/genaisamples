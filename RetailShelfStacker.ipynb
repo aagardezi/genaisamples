{
  "nbformat": 4,
  "nbformat_minor": 0,
  "metadata": {
    "colab": {
      "provenance": [],
      "include_colab_link": true
    },
    "kernelspec": {
      "name": "python3",
      "display_name": "Python 3"
    },
    "language_info": {
      "name": "python"
    }
  },
  "cells": [
    {
      "cell_type": "markdown",
      "metadata": {
        "id": "view-in-github",
        "colab_type": "text"
      },
      "source": [
        "<a href=\"https://colab.research.google.com/github/aagardezi/genaisamples/blob/main/RetailShelfStacker.ipynb\" target=\"_parent\"><img src=\"https://colab.research.google.com/assets/colab-badge.svg\" alt=\"Open In Colab\"/></a>"
      ]
    },
    {
      "cell_type": "markdown",
      "source": [
        "1. Install the google-cloud-aiplatform (usually preinstalled)."
      ],
      "metadata": {
        "id": "cnHMNztYnEk-"
      }
    },
    {
      "cell_type": "code",
      "source": [
        "!pip install --upgrade google-cloud-aiplatform"
      ],
      "metadata": {
        "id": "NUTFRqrlrBIb",
        "colab": {
          "base_uri": "https://localhost:8080/"
        },
        "outputId": "2dc4292b-e8b2-4682-a237-b312741c1695"
      },
      "execution_count": 18,
      "outputs": [
        {
          "output_type": "stream",
          "name": "stdout",
          "text": [
            "Requirement already satisfied: google-cloud-aiplatform in /usr/local/lib/python3.10/dist-packages (1.44.0)\n",
            "Requirement already satisfied: google-api-core[grpc]!=2.0.*,!=2.1.*,!=2.2.*,!=2.3.*,!=2.4.*,!=2.5.*,!=2.6.*,!=2.7.*,<3.0.0dev,>=1.34.1 in /usr/local/lib/python3.10/dist-packages (from google-cloud-aiplatform) (2.11.1)\n",
            "Requirement already satisfied: google-auth<3.0.0dev,>=2.14.1 in /usr/local/lib/python3.10/dist-packages (from google-cloud-aiplatform) (2.27.0)\n",
            "Requirement already satisfied: proto-plus<2.0.0dev,>=1.22.0 in /usr/local/lib/python3.10/dist-packages (from google-cloud-aiplatform) (1.23.0)\n",
            "Requirement already satisfied: protobuf!=3.20.0,!=3.20.1,!=4.21.0,!=4.21.1,!=4.21.2,!=4.21.3,!=4.21.4,!=4.21.5,<5.0.0dev,>=3.19.5 in /usr/local/lib/python3.10/dist-packages (from google-cloud-aiplatform) (3.20.3)\n",
            "Requirement already satisfied: packaging>=14.3 in /usr/local/lib/python3.10/dist-packages (from google-cloud-aiplatform) (24.0)\n",
            "Requirement already satisfied: google-cloud-storage<3.0.0dev,>=1.32.0 in /usr/local/lib/python3.10/dist-packages (from google-cloud-aiplatform) (2.8.0)\n",
            "Requirement already satisfied: google-cloud-bigquery<4.0.0dev,>=1.15.0 in /usr/local/lib/python3.10/dist-packages (from google-cloud-aiplatform) (3.12.0)\n",
            "Requirement already satisfied: google-cloud-resource-manager<3.0.0dev,>=1.3.3 in /usr/local/lib/python3.10/dist-packages (from google-cloud-aiplatform) (1.12.3)\n",
            "Requirement already satisfied: shapely<3.0.0dev in /usr/local/lib/python3.10/dist-packages (from google-cloud-aiplatform) (2.0.3)\n",
            "Requirement already satisfied: googleapis-common-protos<2.0.dev0,>=1.56.2 in /usr/local/lib/python3.10/dist-packages (from google-api-core[grpc]!=2.0.*,!=2.1.*,!=2.2.*,!=2.3.*,!=2.4.*,!=2.5.*,!=2.6.*,!=2.7.*,<3.0.0dev,>=1.34.1->google-cloud-aiplatform) (1.63.0)\n",
            "Requirement already satisfied: requests<3.0.0.dev0,>=2.18.0 in /usr/local/lib/python3.10/dist-packages (from google-api-core[grpc]!=2.0.*,!=2.1.*,!=2.2.*,!=2.3.*,!=2.4.*,!=2.5.*,!=2.6.*,!=2.7.*,<3.0.0dev,>=1.34.1->google-cloud-aiplatform) (2.31.0)\n",
            "Requirement already satisfied: grpcio<2.0dev,>=1.33.2 in /usr/local/lib/python3.10/dist-packages (from google-api-core[grpc]!=2.0.*,!=2.1.*,!=2.2.*,!=2.3.*,!=2.4.*,!=2.5.*,!=2.6.*,!=2.7.*,<3.0.0dev,>=1.34.1->google-cloud-aiplatform) (1.62.1)\n",
            "Requirement already satisfied: grpcio-status<2.0.dev0,>=1.33.2 in /usr/local/lib/python3.10/dist-packages (from google-api-core[grpc]!=2.0.*,!=2.1.*,!=2.2.*,!=2.3.*,!=2.4.*,!=2.5.*,!=2.6.*,!=2.7.*,<3.0.0dev,>=1.34.1->google-cloud-aiplatform) (1.48.2)\n",
            "Requirement already satisfied: cachetools<6.0,>=2.0.0 in /usr/local/lib/python3.10/dist-packages (from google-auth<3.0.0dev,>=2.14.1->google-cloud-aiplatform) (5.3.3)\n",
            "Requirement already satisfied: pyasn1-modules>=0.2.1 in /usr/local/lib/python3.10/dist-packages (from google-auth<3.0.0dev,>=2.14.1->google-cloud-aiplatform) (0.3.0)\n",
            "Requirement already satisfied: rsa<5,>=3.1.4 in /usr/local/lib/python3.10/dist-packages (from google-auth<3.0.0dev,>=2.14.1->google-cloud-aiplatform) (4.9)\n",
            "Requirement already satisfied: google-cloud-core<3.0.0dev,>=1.6.0 in /usr/local/lib/python3.10/dist-packages (from google-cloud-bigquery<4.0.0dev,>=1.15.0->google-cloud-aiplatform) (2.3.3)\n",
            "Requirement already satisfied: google-resumable-media<3.0dev,>=0.6.0 in /usr/local/lib/python3.10/dist-packages (from google-cloud-bigquery<4.0.0dev,>=1.15.0->google-cloud-aiplatform) (2.7.0)\n",
            "Requirement already satisfied: python-dateutil<3.0dev,>=2.7.2 in /usr/local/lib/python3.10/dist-packages (from google-cloud-bigquery<4.0.0dev,>=1.15.0->google-cloud-aiplatform) (2.8.2)\n",
            "Requirement already satisfied: grpc-google-iam-v1<1.0.0dev,>=0.12.4 in /usr/local/lib/python3.10/dist-packages (from google-cloud-resource-manager<3.0.0dev,>=1.3.3->google-cloud-aiplatform) (0.13.0)\n",
            "Requirement already satisfied: numpy<2,>=1.14 in /usr/local/lib/python3.10/dist-packages (from shapely<3.0.0dev->google-cloud-aiplatform) (1.25.2)\n",
            "Requirement already satisfied: google-crc32c<2.0dev,>=1.0 in /usr/local/lib/python3.10/dist-packages (from google-resumable-media<3.0dev,>=0.6.0->google-cloud-bigquery<4.0.0dev,>=1.15.0->google-cloud-aiplatform) (1.5.0)\n",
            "Requirement already satisfied: pyasn1<0.6.0,>=0.4.6 in /usr/local/lib/python3.10/dist-packages (from pyasn1-modules>=0.2.1->google-auth<3.0.0dev,>=2.14.1->google-cloud-aiplatform) (0.5.1)\n",
            "Requirement already satisfied: six>=1.5 in /usr/local/lib/python3.10/dist-packages (from python-dateutil<3.0dev,>=2.7.2->google-cloud-bigquery<4.0.0dev,>=1.15.0->google-cloud-aiplatform) (1.16.0)\n",
            "Requirement already satisfied: charset-normalizer<4,>=2 in /usr/local/lib/python3.10/dist-packages (from requests<3.0.0.dev0,>=2.18.0->google-api-core[grpc]!=2.0.*,!=2.1.*,!=2.2.*,!=2.3.*,!=2.4.*,!=2.5.*,!=2.6.*,!=2.7.*,<3.0.0dev,>=1.34.1->google-cloud-aiplatform) (3.3.2)\n",
            "Requirement already satisfied: idna<4,>=2.5 in /usr/local/lib/python3.10/dist-packages (from requests<3.0.0.dev0,>=2.18.0->google-api-core[grpc]!=2.0.*,!=2.1.*,!=2.2.*,!=2.3.*,!=2.4.*,!=2.5.*,!=2.6.*,!=2.7.*,<3.0.0dev,>=1.34.1->google-cloud-aiplatform) (3.6)\n",
            "Requirement already satisfied: urllib3<3,>=1.21.1 in /usr/local/lib/python3.10/dist-packages (from requests<3.0.0.dev0,>=2.18.0->google-api-core[grpc]!=2.0.*,!=2.1.*,!=2.2.*,!=2.3.*,!=2.4.*,!=2.5.*,!=2.6.*,!=2.7.*,<3.0.0dev,>=1.34.1->google-cloud-aiplatform) (2.0.7)\n",
            "Requirement already satisfied: certifi>=2017.4.17 in /usr/local/lib/python3.10/dist-packages (from requests<3.0.0.dev0,>=2.18.0->google-api-core[grpc]!=2.0.*,!=2.1.*,!=2.2.*,!=2.3.*,!=2.4.*,!=2.5.*,!=2.6.*,!=2.7.*,<3.0.0dev,>=1.34.1->google-cloud-aiplatform) (2024.2.2)\n"
          ]
        }
      ]
    },
    {
      "cell_type": "markdown",
      "source": [
        "2. Authenticate colab with user credentials."
      ],
      "metadata": {
        "id": "Dt7ZFSI-nJh_"
      }
    },
    {
      "cell_type": "code",
      "execution_count": 19,
      "metadata": {
        "id": "2qLg5cUjtyVQ"
      },
      "outputs": [],
      "source": [
        "# @title\n",
        "import sys\n",
        "\n",
        "# Additional authentication is required for Google Colab\n",
        "if 'google.colab' in sys.modules:\n",
        "    # Authenticate user to Google Cloud\n",
        "    from google.colab import auth\n",
        "\n",
        "    auth.authenticate_user()"
      ]
    },
    {
      "cell_type": "markdown",
      "source": [
        "3. Set up global variables."
      ],
      "metadata": {
        "id": "qQI-Wfz7ozXg"
      }
    },
    {
      "cell_type": "code",
      "source": [
        "PROJECT_ID = 'genaillentsearch'\n",
        "LOCATION = 'us-central1'\n",
        "API_ENDPOINT = f'{LOCATION}-autopush-aiplatform.sandbox.googleapis.com'\n",
        "GCS_BUCKET = 'retail-gemini-example-sg' # @param {type:\"string\"}\n",
        "GCS_PATH = 'IMG_2756.jpeg' # @param {type: \"string\"}\n",
        "\n",
        "import vertexai\n",
        "from vertexai import generative_models as vertex_gm\n",
        "\n",
        "vertexai.init(project=PROJECT_ID, location=LOCATION)\n",
        "model = vertex_gm.GenerativeModel('gemini-1.5-pro-preview-0215')\n",
        "\n"
      ],
      "metadata": {
        "id": "Oza1xi2Et3IQ"
      },
      "execution_count": 20,
      "outputs": []
    },
    {
      "cell_type": "markdown",
      "source": [
        "Load image from GCS Bucket"
      ],
      "metadata": {
        "id": "50Owh5sItN49"
      }
    },
    {
      "cell_type": "code",
      "source": [
        "import base64\n",
        "from vertexai.preview.generative_models import Part\n",
        "\n",
        "image1 = Part.from_uri(uri=f\"gs://{GCS_BUCKET}/{GCS_PATH}\", mime_type=\"image/jpeg\")\n",
        "\n",
        "print(f\"gs://{GCS_BUCKET}/{GCS_PATH}\")\n",
        "\n",
        "\n"
      ],
      "metadata": {
        "id": "6APRTgjJtRX-",
        "colab": {
          "base_uri": "https://localhost:8080/"
        },
        "outputId": "46116461-2076-40c9-e855-1ac205e856dd"
      },
      "execution_count": 24,
      "outputs": [
        {
          "output_type": "stream",
          "name": "stdout",
          "text": [
            "gs://retail-gemini-example-sg/IMG_2756.jpeg\n"
          ]
        }
      ]
    },
    {
      "cell_type": "code",
      "source": [
        "\n",
        "from vertexai.preview.generative_models import GenerativeModel\n",
        "import vertexai.preview.generative_models as generative_models\n",
        "\n",
        "def generate():\n",
        "  vertexai.init(project=PROJECT_ID, location=\"us-central1\")\n",
        "  model = GenerativeModel(\"gemini-1.5-pro-preview-0215\")\n",
        "  responses = model.generate_content(\n",
        "    [image1, \"\"\"imagine you are a retail shelf stacker, what products do you see in the above image, list them in a table including how many of each item and price? how would you optimize the placements of these product? are the shelfs stacked in an optimized order? Can you also calculate the cost of the products you can see in the picture? Can you give a detailed answer.\"\"\"],\n",
        "    generation_config={\n",
        "        \"max_output_tokens\": 8192,\n",
        "        \"temperature\": 2,\n",
        "        \"top_p\": 0.4\n",
        "    },\n",
        "    safety_settings={\n",
        "          generative_models.HarmCategory.HARM_CATEGORY_HATE_SPEECH: generative_models.HarmBlockThreshold.BLOCK_MEDIUM_AND_ABOVE,\n",
        "          generative_models.HarmCategory.HARM_CATEGORY_DANGEROUS_CONTENT: generative_models.HarmBlockThreshold.BLOCK_MEDIUM_AND_ABOVE,\n",
        "          generative_models.HarmCategory.HARM_CATEGORY_SEXUALLY_EXPLICIT: generative_models.HarmBlockThreshold.BLOCK_MEDIUM_AND_ABOVE,\n",
        "          generative_models.HarmCategory.HARM_CATEGORY_HARASSMENT: generative_models.HarmBlockThreshold.BLOCK_MEDIUM_AND_ABOVE,\n",
        "    },\n",
        "    stream=True,\n",
        "  )\n",
        "\n",
        "  for response in responses:\n",
        "    print(response.text, end=\"\")\n",
        "\n",
        "generate()"
      ],
      "metadata": {
        "id": "jbbPxkGnsPBW",
        "colab": {
          "base_uri": "https://localhost:8080/"
        },
        "outputId": "e7687af0-fc89-4938-a609-547c74ce0c25"
      },
      "execution_count": 22,
      "outputs": [
        {
          "output_type": "stream",
          "name": "stdout",
          "text": [
            "The image shows a variety of household cleaning and pet care products. The following table lists the products, their prices, and the number of each item that is visible in the image:\n",
            "\n",
            "| Product | Price | Quantity |\n",
            "|---|---|---|\n",
            "| Persil Colour Protect Laundry Liquid | £7.70 | 2 |\n",
            "| Persil Non-Bio Laundry Liquid | £7.70 | 2 |\n",
            "| Ariel Fast Dissolving Laundry Gel | £7.70 | 2 |\n",
            "| Wilton Laundry Liquid | £7.70 | 1 |\n",
            "| Fairy Non-Bio Laundry Liquid | £7.70 | 1 |\n",
            "| Eco-Ver Non-Bio Laundry Liquid | £7.00 | 1 |\n",
            "| Eco-Ver Bio Laundry Liquid | £7.00 | 1 |\n",
            "| Persil All New Laundry Pods | £4.95 | 1 |\n",
            "| Fairy Pure & Clean Washing Up Liquid | £2.50 | 2 |\n",
            "| Surf Tropical Washing Powder | £2.50 | 1 |\n",
            "| Comfort Intense Fabric Conditioner | £1.80 | 2 |\n",
            "| Lenor Spring Awakening Fabric Conditioner | £2.50 | 1 |\n",
            "| Kleenex Fresh Sky Tissues | £1.80 | 1 |\n",
            "| Vanish Oxi Action Multi Stain Remover | £4.10 | 1 |\n",
            "| Calgon Water Softener | £5.80 | 1 |\n",
            "| Finish Powerball Dishwasher Tablets | £6.60 | 1 |\n",
            "| Febreze Air Freshener | £3.70 | 1 |\n",
            "| Sainsbury's Kitchen Foil | £0.60 | 4 |\n",
            "| Sainsbury's Easy Seal Sandwich Bags | £0.60 | 5 |\n",
            "| Sainsbury's Non-Stick Baking Paper | £0.80 | 3 |\n",
            "| Sainsbury's Cling Film | £0.80 | 6 |\n",
            "| Sainsbury's Food & Freezer Bags | £1.50 | 3 |\n",
            "| Sainsbury's Swing Bin Liners | £2.20 | 2 |\n",
            "| Sainsbury's Tall Kitchen Bin Liners | £4.25 | 1 |\n",
            "| Sainsbury's Refuse Sacks | £2.90 | 2 |\n",
            "| Sainsbury's Pedal Bin Liners | £2.25 | 1 |\n",
            "| Cat Litter | £3.10 | 1 |\n",
            "| Cat Food | £3.55 | 1 |\n",
            "| Cat Food | £3.95 | 1 |\n",
            "| Dog Food | £6.60 | 1 |\n",
            "\n",
            "The total cost of the products visible in the image is £130.05.\n",
            "\n",
            "The shelves are not stacked in an optimized order. For example, the laundry detergents are all placed on the top shelf, which may be difficult for some customers to reach. Additionally, the pet care products are scattered throughout the shelves, which may make it difficult for customers to find what they are looking for.\n",
            "\n",
            "To optimize the placement of these products, the laundry detergents could be placed on the middle shelf, where they are easier to reach. The pet care products could be grouped together on one or two shelves, making it easier for customers to find what they need. Additionally, the more expensive products could be placed at eye level, where they are more likely to be seen and purchased.\n"
          ]
        }
      ]
    }
  ]
}